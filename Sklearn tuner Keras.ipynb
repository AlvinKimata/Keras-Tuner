{
 "cells": [
  {
   "cell_type": "markdown",
   "id": "b1e74275-d2a1-4bba-976a-3fa9b5af17cb",
   "metadata": {},
   "source": [
    "### _keras_tuner.SklearnTuner_ class performs cross-validated hyperparameter search for Scikit-learn models."
   ]
  },
  {
   "cell_type": "code",
   "execution_count": 1,
   "id": "f5bfe317-ef0e-47b3-9826-4819e0f1ea31",
   "metadata": {},
   "outputs": [
    {
     "name": "stderr",
     "output_type": "stream",
     "text": [
      "2022-06-30 18:08:53.810598: W tensorflow/stream_executor/platform/default/dso_loader.cc:64] Could not load dynamic library 'libcudart.so.11.0'; dlerror: libcudart.so.11.0: cannot open shared object file: No such file or directory\n",
      "2022-06-30 18:08:53.810682: I tensorflow/stream_executor/cuda/cudart_stub.cc:29] Ignore above cudart dlerror if you do not have a GPU set up on your machine.\n"
     ]
    }
   ],
   "source": [
    "import keras_tuner as kt\n",
    "from tensorflow import keras\n",
    "\n",
    "from sklearn import metrics\n",
    "from sklearn import datasets\n",
    "from sklearn import model_selection\n",
    "from sklearn.linear_model import RidgeClassifier\n",
    "from sklearn.ensemble import RandomForestClassifier"
   ]
  },
  {
   "cell_type": "code",
   "execution_count": 2,
   "id": "d3517599-c77d-4990-9f60-fab65a2642b5",
   "metadata": {},
   "outputs": [],
   "source": [
    "def build_model(hp):\n",
    "    model_type = hp.Choice('model_type', ['random_forest', 'ridge'])\n",
    "    if model_type == 'random_forest':\n",
    "        model = RandomForestClassifier(\n",
    "            n_estimators = hp.Int('n_estimators', 10, 50, step = 10),\n",
    "            max_depth = hp.Int('max_depth', 3, 10))\n",
    "        \n",
    "    else:\n",
    "        model = RidgeClassifier(\n",
    "            alpha = hp.Float('alpha', 1e-3, 1, sampling = 'log'))\n",
    "    \n",
    "    return model"
   ]
  },
  {
   "cell_type": "code",
   "execution_count": 3,
   "id": "9eec26ea-1ab8-4f7c-ae71-3a6b2d660aa4",
   "metadata": {},
   "outputs": [],
   "source": [
    "tuner = kt.tuners.SklearnTuner(\n",
    "    oracle = kt.oracles.BayesianOptimizationOracle(\n",
    "        objective = kt.Objective('score', 'max'),\n",
    "        max_trials = 10),\n",
    "    hypermodel = build_model,\n",
    "    scoring = metrics.make_scorer(metrics.accuracy_score),\n",
    "    directory = '.',\n",
    "    project_name = 'my_project')"
   ]
  },
  {
   "cell_type": "code",
   "execution_count": 4,
   "id": "976378c3-4e10-48ef-8af7-4fbdac9f1dca",
   "metadata": {},
   "outputs": [],
   "source": [
    "X, y = datasets.load_iris(return_X_y = True)\n",
    "X_train, X_test, y_train, y_test = model_selection.train_test_split(X, y, test_size = 0.2)"
   ]
  },
  {
   "cell_type": "code",
   "execution_count": 5,
   "id": "0a4af5b4-cbe5-4c44-9a48-e3f2e2e4deb5",
   "metadata": {},
   "outputs": [
    {
     "name": "stdout",
     "output_type": "stream",
     "text": [
      "Trial 10 Complete [00h 00m 00s]\n",
      "score: 0.8166666666666667\n",
      "\n",
      "Best score So Far: 0.9416666666666667\n",
      "Total elapsed time: 00h 00m 02s\n",
      "INFO:tensorflow:Oracle triggered exit\n"
     ]
    }
   ],
   "source": [
    "tuner.search(X_train, y_train)"
   ]
  },
  {
   "cell_type": "code",
   "execution_count": 6,
   "id": "9db97f5b-9350-4859-bc69-58e54d9049e5",
   "metadata": {},
   "outputs": [],
   "source": [
    "best_model = tuner.get_best_models(num_models = 2)"
   ]
  },
  {
   "cell_type": "code",
   "execution_count": 7,
   "id": "2c09efd0-9bf9-45f8-99e4-e4171f77f763",
   "metadata": {},
   "outputs": [
    {
     "data": {
      "text/plain": [
       "[RandomForestClassifier(max_depth=5, n_estimators=10),\n",
       " RidgeClassifier(alpha=0.31072014785280966)]"
      ]
     },
     "execution_count": 7,
     "metadata": {},
     "output_type": "execute_result"
    }
   ],
   "source": [
    "best_model"
   ]
  },
  {
   "cell_type": "code",
   "execution_count": null,
   "id": "0f51dca8-3e08-4be0-aae5-3a8d054913fb",
   "metadata": {},
   "outputs": [],
   "source": []
  }
 ],
 "metadata": {
  "kernelspec": {
   "display_name": "Python 3 (ipykernel)",
   "language": "python",
   "name": "python3"
  },
  "language_info": {
   "codemirror_mode": {
    "name": "ipython",
    "version": 3
   },
   "file_extension": ".py",
   "mimetype": "text/x-python",
   "name": "python",
   "nbconvert_exporter": "python",
   "pygments_lexer": "ipython3",
   "version": "3.9.7"
  }
 },
 "nbformat": 4,
 "nbformat_minor": 5
}
