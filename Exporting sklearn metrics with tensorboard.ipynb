{
 "cells": [
  {
   "cell_type": "markdown",
   "id": "ea3175bf-ced5-4d46-bdfa-c0676d0a6610",
   "metadata": {},
   "source": [
    "### This notebook demonstrates the use of scikit-learn metrics and logging them to Tensorboard using the _tf.summary_ API"
   ]
  },
  {
   "cell_type": "code",
   "execution_count": 1,
   "id": "4d89f6b7-ad5e-461d-b621-0a68e2754895",
   "metadata": {},
   "outputs": [
    {
     "name": "stderr",
     "output_type": "stream",
     "text": [
      "2022-06-30 18:11:52.122250: W tensorflow/stream_executor/platform/default/dso_loader.cc:64] Could not load dynamic library 'libcudart.so.11.0'; dlerror: libcudart.so.11.0: cannot open shared object file: No such file or directory\n",
      "2022-06-30 18:11:52.122284: I tensorflow/stream_executor/cuda/cudart_stub.cc:29] Ignore above cudart dlerror if you do not have a GPU set up on your machine.\n"
     ]
    }
   ],
   "source": [
    "import os\n",
    "import numpy as np\n",
    "import tensorflow as tf\n",
    "import tensorflow.keras as keras\n",
    "from keras import layers\n",
    "\n",
    "from sklearn.metrics import jaccard_score\n",
    "from sklearn.datasets import load_digits\n",
    "from sklearn.model_selection import train_test_split"
   ]
  },
  {
   "cell_type": "code",
   "execution_count": 2,
   "id": "257a488d-2964-4275-9bfd-1d12d6663c6d",
   "metadata": {},
   "outputs": [],
   "source": [
    "class JaccardScoreCallback(keras.callbacks.Callback):\n",
    "    def __init__(self, model, X_test, y_test, log_dir):\n",
    "        self.model = model\n",
    "        self.X_test = X_test\n",
    "        self.y_test = y_test\n",
    "        self.keras_metric = tf.keras.metrics.Mean('jaccard_score')\n",
    "        self.epoch = 0\n",
    "        self.summary_writer = tf.summary.create_file_writer(\n",
    "            os.path.join(log_dir, model.name))\n",
    "            \n",
    "    def on_epoch_end(self, batch, logs = None):\n",
    "            self.epoch += 1\n",
    "            self.keras_metric.reset_state()\n",
    "            predictions = self.model.predict(self.X_test)\n",
    "            jaccard_value = jaccard_score(np.argmax(predictions, axis = -1), \n",
    "                                          self.y_test, average = None)\n",
    "            self.keras_metric.update_state(jaccard_value)\n",
    "            self._write_metric(\n",
    "                self.keras_metric.name, self.keras_metric.result().numpy().astype(float))\n",
    "            \n",
    "    def _write_metric(self, name, value):\n",
    "            with self.summary_writer.as_default():\n",
    "                tf.summary.scalar(name, value, step = self.epoch)\n",
    "                self.summary_writer.flush()"
   ]
  },
  {
   "cell_type": "code",
   "execution_count": 3,
   "id": "7e8e81d3-e983-4e8f-9cdb-53ce5a038446",
   "metadata": {},
   "outputs": [
    {
     "data": {
      "text/plain": [
       "((1437, 8, 8, 1), (360, 8, 8, 1))"
      ]
     },
     "execution_count": 3,
     "metadata": {},
     "output_type": "execute_result"
    }
   ],
   "source": [
    "NUM_CLASSES = 10\n",
    "INPUT_SHAPE = (8, 8, 1)\n",
    "\n",
    "digits = load_digits()\n",
    "X = digits.data\n",
    "y = digits.target\n",
    "\n",
    "X_train, X_test, y_train, y_test = train_test_split(X, y, test_size= 0.2, random_state = 42)\n",
    "\n",
    "#Scale images.\n",
    "X_train = X_train.astype('float32') / 255\n",
    "X_test = X_test.astype('float32') / 255\n",
    "\n",
    "#Reshape images.\n",
    "X_train = np.reshape(X_train, (X_train.shape[0], 8, 8))\n",
    "X_test = np.reshape(X_test, (X_test.shape[0], 8, 8))\n",
    "\n",
    "X_train = np.expand_dims(X_train, axis = -1)\n",
    "X_test = np.expand_dims(X_test, axis = -1)\n",
    "X_train.shape, X_test.shape"
   ]
  },
  {
   "cell_type": "code",
   "execution_count": 4,
   "id": "e052d534-ae75-4179-ac12-5215be9367f1",
   "metadata": {},
   "outputs": [],
   "source": [
    "#Convert class vectors to binary class matrices.\n",
    "y_train = keras.utils.to_categorical(y_train, num_classes = NUM_CLASSES)\n",
    "y_test = keras.utils.to_categorical(y_test, num_classes = NUM_CLASSES)"
   ]
  },
  {
   "cell_type": "code",
   "execution_count": 5,
   "id": "e289d5a5-f56a-4e21-801d-4d1d72ba3b11",
   "metadata": {},
   "outputs": [
    {
     "name": "stderr",
     "output_type": "stream",
     "text": [
      "2022-06-30 18:12:00.437075: W tensorflow/stream_executor/platform/default/dso_loader.cc:64] Could not load dynamic library 'libcuda.so.1'; dlerror: libcuda.so.1: cannot open shared object file: No such file or directory\n",
      "2022-06-30 18:12:00.437128: W tensorflow/stream_executor/cuda/cuda_driver.cc:269] failed call to cuInit: UNKNOWN ERROR (303)\n",
      "2022-06-30 18:12:00.437157: I tensorflow/stream_executor/cuda/cuda_diagnostics.cc:156] kernel driver does not appear to be running on this host (debonair): /proc/driver/nvidia/version does not exist\n",
      "2022-06-30 18:12:00.459350: I tensorflow/core/platform/cpu_feature_guard.cc:193] This TensorFlow binary is optimized with oneAPI Deep Neural Network Library (oneDNN) to use the following CPU instructions in performance-critical operations:  AVX2 FMA\n",
      "To enable them in other operations, rebuild TensorFlow with the appropriate compiler flags.\n"
     ]
    }
   ],
   "source": [
    "model = keras.Sequential([\n",
    "    keras.layers.Input(shape = INPUT_SHAPE),\n",
    "    layers.Conv2D(filters = 32, kernel_size = (2, 2), activation = 'relu'),\n",
    "    layers.Flatten(),\n",
    "    layers.Dropout(0.5),\n",
    "    layers.Dense(NUM_CLASSES, activation = 'softmax')\n",
    "])\n",
    "\n",
    "model.compile(loss = 'categorical_crossentropy',\n",
    "              optimizer = 'adam',\n",
    "              metrics = ['accuracy'])"
   ]
  },
  {
   "cell_type": "code",
   "execution_count": 6,
   "id": "5484f750-1525-4eda-9ec7-c509a520bdc4",
   "metadata": {},
   "outputs": [
    {
     "name": "stdout",
     "output_type": "stream",
     "text": [
      "Model: \"sequential\"\n",
      "_________________________________________________________________\n",
      " Layer (type)                Output Shape              Param #   \n",
      "=================================================================\n",
      " conv2d (Conv2D)             (None, 7, 7, 32)          160       \n",
      "                                                                 \n",
      " flatten (Flatten)           (None, 1568)              0         \n",
      "                                                                 \n",
      " dropout (Dropout)           (None, 1568)              0         \n",
      "                                                                 \n",
      " dense (Dense)               (None, 10)                15690     \n",
      "                                                                 \n",
      "=================================================================\n",
      "Total params: 15,850\n",
      "Trainable params: 15,850\n",
      "Non-trainable params: 0\n",
      "_________________________________________________________________\n"
     ]
    }
   ],
   "source": [
    "model.summary()"
   ]
  },
  {
   "cell_type": "code",
   "execution_count": 7,
   "id": "0b9d879b-2e63-4687-b76b-a435d1e45d5c",
   "metadata": {},
   "outputs": [
    {
     "name": "stdout",
     "output_type": "stream",
     "text": [
      "Epoch 1/15\n",
      "12/12 [==============================] - 0s 2ms/step loss: 2.0507 - accuracy: 0.47\n",
      "360/360 [==============================] - 2s 2ms/step - loss: 2.0507 - accuracy: 0.4711\n",
      "Epoch 2/15\n",
      "12/12 [==============================] - 0s 1ms/step loss: 1.0865 - accuracy: 0.83\n",
      "360/360 [==============================] - 1s 2ms/step - loss: 1.0524 - accuracy: 0.8455\n",
      "Epoch 3/15\n",
      "12/12 [==============================] - 0s 1ms/step loss: 0.5543 - accuracy: 0.88\n",
      "360/360 [==============================] - 1s 2ms/step - loss: 0.5543 - accuracy: 0.8859\n",
      "Epoch 4/15\n",
      "12/12 [==============================] - 0s 2ms/step loss: 0.3956 - accuracy: 0.90\n",
      "360/360 [==============================] - 1s 2ms/step - loss: 0.4000 - accuracy: 0.9054\n",
      "Epoch 5/15\n",
      "12/12 [==============================] - 0s 1ms/step loss: 0.3364 - accuracy: 0.91\n",
      "360/360 [==============================] - 1s 2ms/step - loss: 0.3287 - accuracy: 0.9165\n",
      "Epoch 6/15\n",
      "12/12 [==============================] - 0s 1ms/step loss: 0.2795 - accuracy: 0.92\n",
      "360/360 [==============================] - 1s 2ms/step - loss: 0.2793 - accuracy: 0.9255\n",
      "Epoch 7/15\n",
      "12/12 [==============================] - 0s 1ms/step loss: 0.2579 - accuracy: 0.92\n",
      "360/360 [==============================] - 1s 2ms/step - loss: 0.2648 - accuracy: 0.9193\n",
      "Epoch 8/15\n",
      "12/12 [==============================] - 0s 1ms/step loss: 0.2374 - accuracy: 0.93\n",
      "360/360 [==============================] - 1s 2ms/step - loss: 0.2351 - accuracy: 0.9360\n",
      "Epoch 9/15\n",
      "12/12 [==============================] - 0s 1ms/step loss: 0.2106 - accuracy: 0.94\n",
      "360/360 [==============================] - 1s 2ms/step - loss: 0.2127 - accuracy: 0.9422\n",
      "Epoch 10/15\n",
      "12/12 [==============================] - 0s 2ms/step loss: 0.2058 - accuracy: 0.93\n",
      "360/360 [==============================] - 1s 2ms/step - loss: 0.2130 - accuracy: 0.9360\n",
      "Epoch 11/15\n",
      "12/12 [==============================] - 0s 1ms/step loss: 0.1941 - accuracy: 0.94\n",
      "360/360 [==============================] - 1s 2ms/step - loss: 0.1995 - accuracy: 0.9402\n",
      "Epoch 12/15\n",
      "12/12 [==============================] - 0s 1ms/step loss: 0.1862 - accuracy: 0.94\n",
      "360/360 [==============================] - 1s 2ms/step - loss: 0.1848 - accuracy: 0.9450\n",
      "Epoch 13/15\n",
      "12/12 [==============================] - 0s 2ms/step loss: 0.1889 - accuracy: 0.94\n",
      "360/360 [==============================] - 1s 2ms/step - loss: 0.1812 - accuracy: 0.9457\n",
      "Epoch 14/15\n",
      "12/12 [==============================] - 0s 1ms/step loss: 0.1701 - accuracy: 0.95\n",
      "360/360 [==============================] - 1s 2ms/step - loss: 0.1691 - accuracy: 0.9527\n",
      "Epoch 15/15\n",
      "12/12 [==============================] - 0s 1ms/step loss: 0.1717 - accuracy: 0.94\n",
      "360/360 [==============================] - 1s 2ms/step - loss: 0.1695 - accuracy: 0.9492\n"
     ]
    },
    {
     "data": {
      "text/plain": [
       "<keras.callbacks.History at 0x7f2938dc54f0>"
      ]
     },
     "execution_count": 7,
     "metadata": {},
     "output_type": "execute_result"
    }
   ],
   "source": [
    "BATCH_SIZE = 4\n",
    "EPOCHS = 15\n",
    "CALLBACKS = [JaccardScoreCallback(model, X_test, np.argmax(y_test, axis = -1), 'logs')]\n",
    "\n",
    "model.fit(X_train, y_train, batch_size = BATCH_SIZE,\n",
    "          epochs = EPOCHS,\n",
    "          callbacks = CALLBACKS, verbose = 1)"
   ]
  },
  {
   "cell_type": "code",
   "execution_count": null,
   "id": "4ce07905-2a33-4cb9-97e4-fbf180286bcf",
   "metadata": {},
   "outputs": [],
   "source": []
  }
 ],
 "metadata": {
  "kernelspec": {
   "display_name": "Python 3 (ipykernel)",
   "language": "python",
   "name": "python3"
  },
  "language_info": {
   "codemirror_mode": {
    "name": "ipython",
    "version": 3
   },
   "file_extension": ".py",
   "mimetype": "text/x-python",
   "name": "python",
   "nbconvert_exporter": "python",
   "pygments_lexer": "ipython3",
   "version": "3.9.7"
  }
 },
 "nbformat": 4,
 "nbformat_minor": 5
}
