{
 "cells": [
  {
   "cell_type": "code",
   "execution_count": 1,
   "id": "6e1a21ab-d01d-445f-9173-3649f44f96fc",
   "metadata": {},
   "outputs": [
    {
     "name": "stderr",
     "output_type": "stream",
     "text": [
      "2022-05-14 18:09:41.538751: W tensorflow/stream_executor/platform/default/dso_loader.cc:64] Could not load dynamic library 'libcudart.so.11.0'; dlerror: libcudart.so.11.0: cannot open shared object file: No such file or directory\n",
      "2022-05-14 18:09:41.538839: I tensorflow/stream_executor/cuda/cudart_stub.cc:29] Ignore above cudart dlerror if you do not have a GPU set up on your machine.\n"
     ]
    }
   ],
   "source": [
    "import keras_tuner as kt\n",
    "import tensorflow as tf\n",
    "from tensorflow.keras.datasets import mnist\n",
    "from tensorflow.keras.utils import to_categorical"
   ]
  },
  {
   "cell_type": "code",
   "execution_count": 2,
   "id": "3e8f7dfe-e412-4176-915e-5361936c733a",
   "metadata": {},
   "outputs": [
    {
     "name": "stderr",
     "output_type": "stream",
     "text": [
      "2022-05-14 18:09:56.498499: W tensorflow/stream_executor/platform/default/dso_loader.cc:64] Could not load dynamic library 'libcuda.so.1'; dlerror: libcuda.so.1: cannot open shared object file: No such file or directory\n",
      "2022-05-14 18:09:56.498649: W tensorflow/stream_executor/cuda/cuda_driver.cc:269] failed call to cuInit: UNKNOWN ERROR (303)\n",
      "2022-05-14 18:09:56.498732: I tensorflow/stream_executor/cuda/cuda_diagnostics.cc:156] kernel driver does not appear to be running on this host (debonair): /proc/driver/nvidia/version does not exist\n",
      "2022-05-14 18:09:56.531296: I tensorflow/core/platform/cpu_feature_guard.cc:151] This TensorFlow binary is optimized with oneAPI Deep Neural Network Library (oneDNN) to use the following CPU instructions in performance-critical operations:  AVX2 FMA\n",
      "To enable them in other operations, rebuild TensorFlow with the appropriate compiler flags.\n",
      "2022-05-14 18:09:56.597060: W tensorflow/core/framework/cpu_allocator_impl.cc:82] Allocation of 376320000 exceeds 10% of free system memory.\n",
      "2022-05-14 18:09:56.991743: W tensorflow/core/framework/cpu_allocator_impl.cc:82] Allocation of 62720000 exceeds 10% of free system memory.\n"
     ]
    },
    {
     "data": {
      "text/plain": [
       "(TensorShape([60000, 784]),\n",
       " TensorShape([10000, 784]),\n",
       " (60000, 10),\n",
       " (10000, 10))"
      ]
     },
     "execution_count": 2,
     "metadata": {},
     "output_type": "execute_result"
    }
   ],
   "source": [
    "(X_train, y_train), (X_test, y_test) = mnist.load_data()\n",
    "X_train = X_train / 255\n",
    "X_test = X_test / 255\n",
    "\n",
    "y_test = to_categorical(y_test, num_classes = 10)\n",
    "y_train = to_categorical(y_train, num_classes = 10)\n",
    "\n",
    "dimensions = X_train.shape[1] * X_train.shape[2]\n",
    "\n",
    "X_train = tf.reshape(X_train, (X_train.shape[0], dimensions))\n",
    "X_test = tf.reshape(X_test, (X_test.shape[0], dimensions))\n",
    "\n",
    "X_train.shape, X_test.shape, y_train.shape, y_test.shape"
   ]
  },
  {
   "cell_type": "code",
   "execution_count": 3,
   "id": "a83037a8-8de0-4443-b03f-ddea9d2c9cc1",
   "metadata": {},
   "outputs": [],
   "source": [
    "def build_model(hp):\n",
    "    model = tf.keras.Sequential([\n",
    "        #tf.keras.Input(shape = (None, 28, 28)),\n",
    "        tf.keras.layers.Dense(64, activation = 'relu'),\n",
    "        tf.keras.layers.Dense(10, hp.Choice('activation', ['sigmoid', 'softmax']))\n",
    "    ])\n",
    "    \n",
    "    #Compile model.\n",
    "    model.compile(loss = 'categorical_crossentropy',\n",
    "                  metrics = ['accuracy'],\n",
    "                  optimizer = 'adam')\n",
    "    return model"
   ]
  },
  {
   "cell_type": "code",
   "execution_count": 4,
   "id": "16ed7bed-b2bd-43cc-9c4e-34f68ce06601",
   "metadata": {},
   "outputs": [],
   "source": [
    "!rm -r 'untitled_project/'"
   ]
  },
  {
   "cell_type": "code",
   "execution_count": 5,
   "id": "f5834fc2-f896-4c52-8802-77a5c45ad089",
   "metadata": {},
   "outputs": [],
   "source": [
    "tuner = kt.RandomSearch(\n",
    "    build_model, \n",
    "    objective = 'accuracy',\n",
    "    max_trials = 5)"
   ]
  },
  {
   "cell_type": "code",
   "execution_count": 6,
   "id": "84dbc8ea-ce24-454e-ab76-258fc767bb12",
   "metadata": {},
   "outputs": [
    {
     "name": "stdout",
     "output_type": "stream",
     "text": [
      "Trial 2 Complete [00h 00m 38s]\n",
      "accuracy: 0.9799500107765198\n",
      "\n",
      "Best accuracy So Far: 0.9799500107765198\n",
      "Total elapsed time: 00h 01m 31s\n",
      "INFO:tensorflow:Oracle triggered exit\n"
     ]
    }
   ],
   "source": [
    "tuner.search(X_train, y_train, epochs = 5, verbose = 1, validation_data = (X_test, y_test))\n"
   ]
  },
  {
   "cell_type": "code",
   "execution_count": 7,
   "id": "1208d5fc-0a2f-4745-8297-6cd1913b1a7f",
   "metadata": {},
   "outputs": [],
   "source": [
    "best_model_hparam = tuner.get_best_hyperparameters()\n",
    "best_model = tuner.get_best_models(num_models = 2)"
   ]
  },
  {
   "cell_type": "code",
   "execution_count": 8,
   "id": "9d8d7bc7-6ecd-41f5-8724-14190887a0e7",
   "metadata": {},
   "outputs": [
    {
     "data": {
      "text/plain": [
       "[<keras_tuner.engine.hyperparameters.HyperParameters at 0x7f7310791fa0>]"
      ]
     },
     "execution_count": 8,
     "metadata": {},
     "output_type": "execute_result"
    }
   ],
   "source": [
    "best_model_hparam"
   ]
  },
  {
   "cell_type": "code",
   "execution_count": 9,
   "id": "e2015200-f912-47bf-8d20-4192b4dda247",
   "metadata": {},
   "outputs": [
    {
     "name": "stdout",
     "output_type": "stream",
     "text": [
      "Results summary\n",
      "Results in ./untitled_project\n",
      "Showing 10 best trials\n",
      "<keras_tuner.engine.objective.Objective object at 0x7f7323503eb0>\n",
      "Trial summary\n",
      "Hyperparameters:\n",
      "activation: softmax\n",
      "Score: 0.9799500107765198\n",
      "Trial summary\n",
      "Hyperparameters:\n",
      "activation: sigmoid\n",
      "Score: 0.9792500138282776\n"
     ]
    }
   ],
   "source": [
    "tuner.results_summary()"
   ]
  },
  {
   "cell_type": "code",
   "execution_count": null,
   "id": "5763f731-68b7-439f-a761-8321175b49a9",
   "metadata": {},
   "outputs": [],
   "source": []
  }
 ],
 "metadata": {
  "kernelspec": {
   "display_name": "Python 3 (ipykernel)",
   "language": "python",
   "name": "python3"
  },
  "language_info": {
   "codemirror_mode": {
    "name": "ipython",
    "version": 3
   },
   "file_extension": ".py",
   "mimetype": "text/x-python",
   "name": "python",
   "nbconvert_exporter": "python",
   "pygments_lexer": "ipython3",
   "version": "3.9.7"
  }
 },
 "nbformat": 4,
 "nbformat_minor": 5
}
